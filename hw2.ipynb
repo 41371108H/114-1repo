{
  "nbformat": 4,
  "nbformat_minor": 0,
  "metadata": {
    "colab": {
      "provenance": [],
      "authorship_tag": "ABX9TyPX1BfFe0xElS5ldJONydLQ",
      "include_colab_link": true
    },
    "kernelspec": {
      "name": "python3",
      "display_name": "Python 3"
    },
    "language_info": {
      "name": "python"
    }
  },
  "cells": [
    {
      "cell_type": "markdown",
      "metadata": {
        "id": "view-in-github",
        "colab_type": "text"
      },
      "source": [
        "<a href=\"https://colab.research.google.com/github/41371108H/114-1repo/blob/main/hw2.ipynb\" target=\"_parent\"><img src=\"https://colab.research.google.com/assets/colab-badge.svg\" alt=\"Open In Colab\"/></a>"
      ]
    },
    {
      "cell_type": "code",
      "source": [
        "!pip install -q google-generativeai"
      ],
      "metadata": {
        "id": "ty3_vH2WylO4"
      },
      "execution_count": 6,
      "outputs": []
    },
    {
      "cell_type": "code",
      "source": [
        "import gradio as gr\n",
        "import pandas as pd\n",
        "from google.colab import auth\n",
        "from google.auth import default\n",
        "\n",
        "# -*- coding: utf-8 -*-\n",
        "import gspread\n",
        "from datetime import datetime\n",
        "import google.generativeai as genai\n",
        "import os\n",
        "import json"
      ],
      "metadata": {
        "id": "IsiCTy9vysL_"
      },
      "execution_count": 7,
      "outputs": []
    },
    {
      "cell_type": "code",
      "source": [
        "from google.colab import userdata\n",
        "\n",
        "# 從 Colab Secrets 中獲取 API 金鑰\n",
        "api_key = userdata.get('repo')\n",
        "\n",
        "# 使用獲取的金鑰配置 genai\n",
        "genai.configure(api_key=api_key)\n",
        "\n",
        "model = genai.GenerativeModel('gemini-2.5-pro')\n",
        ""
      ],
      "metadata": {
        "id": "J_eJ9TUXyvMi"
      },
      "execution_count": 8,
      "outputs": []
    },
    {
      "cell_type": "code",
      "source": [
        "SHEET_URL = \"https://docs.google.com/spreadsheets/d/1YmuPBSwZVq0m0-lwpsjCEcyXik3WVeE7a23sRin5ojw/edit?usp=sharing\"\n",
        "WORKSHEET_NAME = \"工作表2\"\n",
        "\n",
        "REQUIRED_COLUMNS = [\"姓名\", \"國文\", \"英文\", \"數學\",\"總分\", \"總平均\" ]\n",
        "\n",
        "_auth_done = False\n",
        "_gc = None\n",
        "_ws = None"
      ],
      "metadata": {
        "id": "NKuTe2Lbyxu5"
      },
      "execution_count": 9,
      "outputs": []
    },
    {
      "cell_type": "code",
      "source": [
        "from google.colab import auth\n",
        "auth.authenticate_user()\n",
        "\n",
        "import gspread\n",
        "from google.auth import default\n",
        "import pandas as pd\n",
        "import gradio as gr\n",
        "\n",
        "# Google Sheets 認證\n",
        "creds, _ = default()\n",
        "gc = gspread.authorize(creds)\n",
        "\n",
        "# 嘗試讀取 Google 試算表\n",
        "try:\n",
        "    gsheets = gc.open_by_url('https://docs.google.com/spreadsheets/d/1YmuPBSwZVq0m0-lwpsjCEcyXik3WVeE7a23sRin5ojw/edit?usp=sharing')\n",
        "    worksheet = gsheets.worksheet('工作表2')\n",
        "    sheets = worksheet.get_all_values()\n",
        "    df = pd.DataFrame(sheets[1:], columns=sheets[0])\n",
        "\n",
        "    # 把成績欄位轉數字\n",
        "    for col in ['國文', '英文', '數學', '總分', '平均分數']:\n",
        "        if col in df.columns:\n",
        "            df[col] = pd.to_numeric(df[col], errors='coerce')\n",
        "\n",
        "except gspread.exceptions.SpreadsheetNotFound:\n",
        "    print(\"錯誤：找不到指定的 Google 試算表\")\n",
        "    df = pd.DataFrame(columns=['姓名', '國文', '英文', '數學', '總分', '平均分數'])\n",
        "    worksheet = None\n",
        "\n",
        "\n",
        "# 定義 Gradio 函式\n",
        "def record_and_display(name, chinese, english, math):\n",
        "    global df, worksheet\n",
        "\n",
        "    if not name:\n",
        "        return df, \"⚠️ 請輸入姓名\"\n",
        "\n",
        "    # 計算總分和平均\n",
        "    total = chinese + english + math\n",
        "    average = round(total / 3, 2)\n",
        "\n",
        "    # 建立紀錄\n",
        "    record = {\n",
        "        '姓名': name,\n",
        "        '國文': chinese,\n",
        "        '英文': english,\n",
        "        '數學': math,\n",
        "        '總分': total,\n",
        "        '平均分數': average\n",
        "    }\n",
        "\n",
        "    # 加到本地 DataFrame\n",
        "    new_row_df = pd.DataFrame([record])\n",
        "    df = pd.concat([df, new_row_df], ignore_index=True)\n",
        "\n",
        "    # 同步到 Google Sheets\n",
        "    if worksheet:\n",
        "        try:\n",
        "            worksheet.append_row(list(record.values()))\n",
        "            msg = f\"✅ {name} 的成績已新增並同步至 Google 試算表。\"\n",
        "        except Exception as e:\n",
        "            msg = f\"⚠️ 無法寫入 Google 試算表：{e}\"\n",
        "    else:\n",
        "        msg = f\"✅ {name} 的成績已新增（僅儲存在本地）。\"\n",
        "\n",
        "    # 回傳 DataFrame 與訊息\n",
        "    return df, msg\n",
        "\n",
        "\n",
        "# 建立 Gradio 介面\n",
        "with gr.Blocks() as demo:\n",
        "    gr.Markdown(\"## 📝 學生成績紀錄系統\")\n",
        "    with gr.Row():\n",
        "        name = gr.Textbox(label=\"學生姓名\")\n",
        "        chinese = gr.Number(label=\"國文成績\", value=0)\n",
        "        english = gr.Number(label=\"英文成績\", value=0)\n",
        "        math = gr.Number(label=\"數學成績\", value=0)\n",
        "\n",
        "    submit_btn = gr.Button(\"新增紀錄\")\n",
        "    output_df = gr.Dataframe(headers=['姓名', '國文', '英文', '數學', '總分', '平均分數'], interactive=False)\n",
        "    msg = gr.Label()\n",
        "\n",
        "    submit_btn.click(record_and_display, [name, chinese, english, math], [output_df, msg])\n",
        "\n",
        "demo.launch()\n"
      ],
      "metadata": {
        "colab": {
          "base_uri": "https://localhost:8080/",
          "height": 645
        },
        "id": "gyWBuOe-3UZW",
        "outputId": "5d740456-d26a-4894-96e8-4910d996678c"
      },
      "execution_count": 10,
      "outputs": [
        {
          "output_type": "stream",
          "name": "stdout",
          "text": [
            "It looks like you are running Gradio on a hosted Jupyter notebook, which requires `share=True`. Automatically setting `share=True` (you can turn this off by setting `share=False` in `launch()` explicitly).\n",
            "\n",
            "Colab notebook detected. To show errors in colab notebook, set debug=True in launch()\n",
            "* Running on public URL: https://05893090246eb00d23.gradio.live\n",
            "\n",
            "This share link expires in 1 week. For free permanent hosting and GPU upgrades, run `gradio deploy` from the terminal in the working directory to deploy to Hugging Face Spaces (https://huggingface.co/spaces)\n"
          ]
        },
        {
          "output_type": "display_data",
          "data": {
            "text/plain": [
              "<IPython.core.display.HTML object>"
            ],
            "text/html": [
              "<div><iframe src=\"https://05893090246eb00d23.gradio.live\" width=\"100%\" height=\"500\" allow=\"autoplay; camera; microphone; clipboard-read; clipboard-write;\" frameborder=\"0\" allowfullscreen></iframe></div>"
            ]
          },
          "metadata": {}
        },
        {
          "output_type": "execute_result",
          "data": {
            "text/plain": []
          },
          "metadata": {},
          "execution_count": 10
        }
      ]
    }
  ]
}